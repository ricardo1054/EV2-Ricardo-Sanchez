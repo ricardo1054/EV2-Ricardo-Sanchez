{
 "cells": [
  {
   "cell_type": "code",
   "execution_count": 1,
   "id": "f775ae40-bd6f-4d16-bf4e-eb4129011442",
   "metadata": {},
   "outputs": [],
   "source": [
    "import numpy as np"
   ]
  },
  {
   "cell_type": "code",
   "execution_count": 15,
   "id": "5f908d66-f731-44f1-b68a-afb7d45de778",
   "metadata": {},
   "outputs": [
    {
     "name": "stdout",
     "output_type": "stream",
     "text": [
      "Array generado: [87 13 69 68 10 94 45  7 56  8]\n"
     ]
    }
   ],
   "source": [
    "#1.-Crear un array\n",
    "array = np.random.randint(1, 101, size=10)\n",
    "print(\"Array generado:\", array)"
   ]
  },
  {
   "cell_type": "code",
   "execution_count": 16,
   "id": "2268076c-842e-44e6-bd39-186bfbd6a5dc",
   "metadata": {},
   "outputs": [
    {
     "name": "stdout",
     "output_type": "stream",
     "text": [
      "\n",
      "Matriz 2x5:\n",
      "[[87 13 69 68 10]\n",
      " [94 45  7 56  8]]\n"
     ]
    }
   ],
   "source": [
    "#2.-Reshape\n",
    "matriz = array.reshape(2, 5)\n",
    "print(\"\\nMatriz 2x5:\")\n",
    "print(matriz)"
   ]
  },
  {
   "cell_type": "code",
   "execution_count": 17,
   "id": "e1b0fc5c-437c-4636-b2f5-8aaf4422a76c",
   "metadata": {},
   "outputs": [
    {
     "name": "stdout",
     "output_type": "stream",
     "text": [
      "\n",
      "Primera fila: [87 13 69 68 10]\n",
      "Última columna: [10  8]\n"
     ]
    }
   ],
   "source": [
    "#3.-Indexación y slicing\n",
    "primera_fila = matriz[0]  \n",
    "print(\"\\nPrimera fila:\", primera_fila)\n",
    "\n",
    "# 3. Extraer la última columna\n",
    "ultima_columna = matriz[:, -1]  \n",
    "print(\"Última columna:\", ultima_columna)"
   ]
  },
  {
   "cell_type": "code",
   "execution_count": 18,
   "id": "2e59a3ec-0e21-468b-9d2d-c9e088e790e6",
   "metadata": {},
   "outputs": [
    {
     "name": "stdout",
     "output_type": "stream",
     "text": [
      "\n",
      "Matriz con la segunda fila modificada:\n",
      "[[87 13 69 68 10]\n",
      " [ 0  0  0  0  0]]\n"
     ]
    }
   ],
   "source": [
    "#4.-Modificación\n",
    "matriz[1] = 0  \n",
    "print(\"\\nMatriz con la segunda fila modificada:\")\n",
    "print(matriz)"
   ]
  },
  {
   "cell_type": "code",
   "execution_count": null,
   "id": "cae44cb6-3914-4162-ac87-b87e7611c837",
   "metadata": {},
   "outputs": [],
   "source": [
    "#Parte 2: Operaciones básicas con NumPy"
   ]
  },
  {
   "cell_type": "code",
   "execution_count": 23,
   "id": "3f1215a6-a27e-4a66-b985-d93307e86b12",
   "metadata": {},
   "outputs": [
    {
     "name": "stdout",
     "output_type": "stream",
     "text": [
      "Array 1: [38 25 28 29 26]\n",
      "Array 2: [50 15  6 27 17]\n",
      "\n",
      "Suma de arrays: [88 40 34 56 43]\n",
      "Multiplicación de arrays: [1900  375  168  783  442]\n",
      "\n",
      "Estadísticas de la suma:\n",
      "Promedio: 52.20\n",
      "Desviación estándar: 19.29\n",
      "\n",
      "Estadísticas de la multiplicación:\n",
      "Promedio: 733.60\n",
      "Desviación estándar: 615.87\n"
     ]
    }
   ],
   "source": [
    "# 1.- Crear dos arrays aleatorios\n",
    "array1 = np.random.randint(1, 51, size=5)  \n",
    "array2 = np.random.randint(1, 51, size=5)\n",
    "\n",
    "# Mostrar los arrays originales\n",
    "print(\"Array 1:\", array1)\n",
    "print(\"Array 2:\", array2)\n",
    "\n",
    "# 2. Operaciones\n",
    "# Suma de arrays\n",
    "suma = array1 + array2\n",
    "print(\"\\nSuma de arrays:\", suma)\n",
    "\n",
    "# Multiplicación de arrays\n",
    "multiplicacion = array1 * array2\n",
    "print(\"Multiplicación de arrays:\", multiplicacion)\n",
    "\n",
    "# 3. Estadísticas\n",
    "# Promedio\n",
    "promedio_suma = np.mean(suma)\n",
    "promedio_mult = np.mean(multiplicacion)\n",
    "\n",
    "# Desviación estándar\n",
    "std_suma = np.std(suma)\n",
    "std_mult = np.std(multiplicacion)\n",
    "\n",
    "# Mostrar resultados estadísticos\n",
    "print(\"\\nEstadísticas de la suma:\")\n",
    "print(f\"Promedio: {promedio_suma:.2f}\")\n",
    "print(f\"Desviación estándar: {std_suma:.2f}\")\n",
    "\n",
    "print(\"\\nEstadísticas de la multiplicación:\")\n",
    "print(f\"Promedio: {promedio_mult:.2f}\")\n",
    "print(f\"Desviación estándar: {std_mult:.2f}\")"
   ]
  },
  {
   "cell_type": "code",
   "execution_count": 27,
   "id": "a68b7e36-fa92-48f8-9b2e-4c6b0514f080",
   "metadata": {},
   "outputs": [
    {
     "name": "stdout",
     "output_type": "stream",
     "text": [
      "Array original:\n",
      "[0.9525829  0.69774195 0.53585264 0.14103493 0.27996853 0.24035079\n",
      " 0.10944469 0.93531994 0.76502606 0.27595462 0.1677133  0.22745328\n",
      " 0.37990791 0.45684251 0.43008242 0.3272863  0.23268164 0.60533208\n",
      " 0.3003456  0.08204284]\n",
      "\n",
      "Valores redondeados a 4 decimales:\n",
      "[0.9526 0.6977 0.5359 0.141  0.28   0.2404 0.1094 0.9353 0.765  0.276\n",
      " 0.1677 0.2275 0.3799 0.4568 0.4301 0.3273 0.2327 0.6053 0.3003 0.082 ]\n",
      "\n",
      "Array después de aplicar las condiciones:\n",
      "[1. 1. 1. 0. 0. 0. 0. 1. 1. 0. 0. 0. 0. 0. 0. 0. 0. 1. 0. 0.]\n",
      "\n",
      "Estadísticas:\n",
      "Cantidad de ceros: 14\n",
      "Cantidad de unos: 6\n",
      "Proporción de unos: 30.00%\n"
     ]
    }
   ],
   "source": [
    "#2.- Generar array de 20 números aleatorios entre 0 y 1\n",
    "array_original = np.random.random(20)\n",
    "\n",
    "# Mostrar el array original\n",
    "print(\"Array original:\")\n",
    "print(array_original)\n",
    "print(\"\\nValores redondeados a 4 decimales:\")\n",
    "print(np.round(array_original, 4))\n",
    "\n",
    "array_modificado = array_original.copy()\n",
    "\n",
    "# máscaras booleanas\n",
    "array_modificado[array_modificado < 0.5] = 0  \n",
    "array_modificado[array_modificado >= 0.5] = 1  \n",
    "\n",
    "print(\"\\nArray después de aplicar las condiciones:\")\n",
    "print(array_modificado)\n",
    "\n",
    "# Mostrar estadísticas\n",
    "print(\"\\nEstadísticas:\")\n",
    "print(f\"Cantidad de ceros: {np.sum(array_modificado == 0)}\")\n",
    "print(f\"Cantidad de unos: {np.sum(array_modificado == 1)}\")\n",
    "print(f\"Proporción de unos: {np.mean(array_modificado):.2%}\")"
   ]
  },
  {
   "cell_type": "code",
   "execution_count": 32,
   "id": "2c741d64-1787-4ddc-8818-eb4e62df5286",
   "metadata": {},
   "outputs": [
    {
     "name": "stdout",
     "output_type": "stream",
     "text": [
      "Matriz 1:\n",
      "[[9 4 5]\n",
      " [5 3 9]\n",
      " [8 5 2]]\n",
      "\n",
      "Matriz 2:\n",
      "[[7 1 5]\n",
      " [4 6 7]\n",
      " [5 2 8]]\n",
      "\n",
      "Producto escalar:\n",
      "[[104  43 113]\n",
      " [ 92  41 118]\n",
      " [ 86  42  91]]\n",
      "\n",
      "Dimensiones del resultado: (3, 3)\n"
     ]
    }
   ],
   "source": [
    "matriz1 = np.random.randint(1, 10, size=(3, 3))\n",
    "matriz2 = np.random.randint(1, 10, size=(3, 3))\n",
    "\n",
    "# Mostrar las matrices originales\n",
    "print(\"Matriz 1:\")\n",
    "print(matriz1)\n",
    "print(\"\\nMatriz 2:\")\n",
    "print(matriz2)\n",
    "\n",
    "# Calcular el producto escalar usando diferentes métodos\n",
    "producto_dot = np.dot(matriz1, matriz2)\n",
    "print(\"\\nProducto escalar:\")\n",
    "print(producto_dot)\n",
    "\n",
    "# Mostrar dimensiones del resultado\n",
    "print(\"\\nDimensiones del resultado:\", producto_dot.shape)"
   ]
  },
  {
   "cell_type": "code",
   "execution_count": 33,
   "id": "38253da6-6839-4eb4-a453-79a8780cb3d9",
   "metadata": {},
   "outputs": [],
   "source": [
    "##Parte 3: Análisis de datos con NumPy"
   ]
  },
  {
   "cell_type": "code",
   "execution_count": 53,
   "id": "7198440a-e8dc-4f4b-9e08-792f7cf24fa8",
   "metadata": {},
   "outputs": [
    {
     "name": "stdout",
     "output_type": "stream",
     "text": [
      "Matriz de datos de personas:\n",
      "           Altura (cm)  Peso (kg)  Edad  Presión sistólica\n",
      "Persona 1           11          7     1                  1\n",
      "Persona 2           20         13     9                  3\n",
      "Persona 3            7          6     8                  9\n",
      "Persona 4            5          1    19                 10\n",
      "Persona 5           12         15     9                 20\n"
     ]
    }
   ],
   "source": [
    "import pandas as pd\n",
    "\n",
    "# Generar matriz de datos aleatorios\n",
    "datos = np.random.randint(1, 21, size=(5, 4))\n",
    "\n",
    "# Crear DataFrame con nombres descriptivos\n",
    "df = pd.DataFrame(\n",
    "    datos,\n",
    "    columns=['Altura (cm)', 'Peso (kg)', 'Edad', 'Presión sistólica'],\n",
    "    index=['Persona 1', 'Persona 2', 'Persona 3', 'Persona 4', 'Persona 5']\n",
    ")\n",
    "print(\"Matriz de datos de personas:\")\n",
    "print(df)"
   ]
  },
  {
   "cell_type": "code",
   "execution_count": 54,
   "id": "536b77fc-6fe7-4934-9325-b7a476eb5f75",
   "metadata": {},
   "outputs": [],
   "source": [
    "##Estadisticas"
   ]
  },
  {
   "cell_type": "code",
   "execution_count": 55,
   "id": "4eeb81f2-38fc-4346-8e31-13e96153e566",
   "metadata": {},
   "outputs": [
    {
     "name": "stdout",
     "output_type": "stream",
     "text": [
      "Media de cada columna:\n",
      "Altura (cm)          11.0\n",
      "Peso (kg)             8.4\n",
      "Edad                  9.2\n",
      "Presión sistólica     8.6\n",
      "dtype: float64\n",
      "Valor máximo de cada fila:\n",
      "Persona 1    11\n",
      "Persona 2    20\n",
      "Persona 3     9\n",
      "Persona 4    19\n",
      "Persona 5    20\n",
      "dtype: int32\n",
      "\n",
      "Valor mínimo de cada fila:\n",
      "Persona 1    1\n",
      "Persona 2    3\n",
      "Persona 3    6\n",
      "Persona 4    1\n",
      "Persona 5    9\n",
      "dtype: int32\n",
      "DataFrame ordenado por 'Peso':\n",
      "           Altura (cm)  Peso (kg)  Edad  Presión sistólica\n",
      "Persona 4            5          1    19                 10\n",
      "Persona 3            7          6     8                  9\n",
      "Persona 1           11          7     1                  1\n",
      "Persona 2           20         13     9                  3\n",
      "Persona 5           12         15     9                 20\n"
     ]
    }
   ],
   "source": [
    "# Calcular la media de cada columna\n",
    "media_columnas = df.mean()\n",
    "\n",
    "print(\"Media de cada columna:\")\n",
    "print(media_columnas)\n",
    "\n",
    "\n",
    "# Encontrar el valor máximo de cada fila\n",
    "max_filas = df.max(axis=1)\n",
    "\n",
    "# Encontrar el valor mínimo de cada fila\n",
    "min_filas = df.min(axis=1)\n",
    "\n",
    "print(\"Valor máximo de cada fila:\")\n",
    "print(max_filas)\n",
    "\n",
    "print(\"\\nValor mínimo de cada fila:\")\n",
    "print(min_filas)\n",
    "\n",
    "\n",
    "# Ordenar las filas según los valores de la columna \"Peso\"\n",
    "df_ordenado = df.sort_values(by='Peso (kg)')\n",
    "\n",
    "print(\"DataFrame ordenado por 'Peso':\")\n",
    "print(df_ordenado)"
   ]
  },
  {
   "cell_type": "code",
   "execution_count": null,
   "id": "7a995fc5-cf8d-4213-856f-3b19716ffed6",
   "metadata": {},
   "outputs": [],
   "source": []
  }
 ],
 "metadata": {
  "kernelspec": {
   "display_name": "Python 3 (ipykernel)",
   "language": "python",
   "name": "python3"
  },
  "language_info": {
   "codemirror_mode": {
    "name": "ipython",
    "version": 3
   },
   "file_extension": ".py",
   "mimetype": "text/x-python",
   "name": "python",
   "nbconvert_exporter": "python",
   "pygments_lexer": "ipython3",
   "version": "3.9.0"
  }
 },
 "nbformat": 4,
 "nbformat_minor": 5
}
